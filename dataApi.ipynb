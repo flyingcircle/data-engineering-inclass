{
 "cells": [
  {
   "cell_type": "code",
   "execution_count": 1,
   "metadata": {},
   "outputs": [],
   "source": [
    "import pandas as pd\n",
    "import numpy as np\n",
    "import matplotlib.pyplot as plt\n",
    "import seaborn as sns\n",
    "import requests\n",
    "from bs4 import BeautifulSoup"
   ]
  },
  {
   "cell_type": "code",
   "execution_count": 2,
   "metadata": {},
   "outputs": [
    {
     "data": {
      "text/plain": [
       "'application/json; charset=utf-8'"
      ]
     },
     "execution_count": 2,
     "metadata": {},
     "output_type": "execute_result"
    }
   ],
   "source": [
    "response = requests.get(\"https://randomuser.me/api/\")\n",
    "response.headers.get('content-type')\n"
   ]
  },
  {
   "cell_type": "code",
   "execution_count": 4,
   "metadata": {},
   "outputs": [
    {
     "name": "stdout",
     "output_type": "stream",
     "text": [
      "{'results': [{'gender': 'female', 'name': {'title': 'Miss', 'first': 'Sharon', 'last': 'Ramadhin'}, 'location': {'street': {'number': 8296, 'name': 'Kelvinbaan'}, 'city': 'Sandfirden', 'state': 'Drenthe', 'country': 'Netherlands', 'postcode': 88169, 'coordinates': {'latitude': '47.4428', 'longitude': '153.6394'}, 'timezone': {'offset': '-8:00', 'description': 'Pacific Time (US & Canada)'}}, 'email': 'sharon.ramadhin@example.com', 'login': {'uuid': 'd912deb0-d829-4101-8a7d-b6c406cde971', 'username': 'ticklishpanda491', 'password': 'hola', 'salt': 'GiMgchFN', 'md5': '7ff0f9a48878c45213b16dc693dbe2e5', 'sha1': 'cd0830a2e924a4fd11aecd0e0b7be309a2bf7d48', 'sha256': 'ff56f258b8df597898a09bd8e0242cfad765da0d6dc4debac282101330c59a6b'}, 'dob': {'date': '1988-01-30T09:25:48.254Z', 'age': 34}, 'registered': {'date': '2007-03-24T04:19:58.078Z', 'age': 15}, 'phone': '(378)-864-0737', 'cell': '(891)-301-3290', 'id': {'name': 'BSN', 'value': '46541485'}, 'picture': {'large': 'https://randomuser.me/api/portraits/women/1.jpg', 'medium': 'https://randomuser.me/api/portraits/med/women/1.jpg', 'thumbnail': 'https://randomuser.me/api/portraits/thumb/women/1.jpg'}, 'nat': 'NL'}], 'info': {'seed': 'ff06d410a7ec5356', 'results': 1, 'page': 1, 'version': '1.3'}}\n"
     ]
    }
   ],
   "source": [
    "json = response.json()\n",
    "print(json)"
   ]
  }
 ],
 "metadata": {
  "interpreter": {
   "hash": "98590ff4fe04c8543246b2a01debd3de3c5ca9b666f43f1fa87d5110c692004c"
  },
  "kernelspec": {
   "display_name": "Python 3.10.0 64-bit",
   "language": "python",
   "name": "python3"
  },
  "language_info": {
   "codemirror_mode": {
    "name": "ipython",
    "version": 3
   },
   "file_extension": ".py",
   "mimetype": "text/x-python",
   "name": "python",
   "nbconvert_exporter": "python",
   "pygments_lexer": "ipython3",
   "version": "3.10.0"
  },
  "orig_nbformat": 4
 },
 "nbformat": 4,
 "nbformat_minor": 2
}
